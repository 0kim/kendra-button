{
 "cells": [
  {
   "cell_type": "markdown",
   "metadata": {},
   "source": [
    "# Kendra Sample\n",
    "\n",
    "* Wget a URL\n",
    "* Upload files to S3\n",
    "* Create a kendra index\n",
    "* Add the source\n",
    "* Sync the source\n",
    "* Query the index\n",
    "* Clean up"
   ]
  },
  {
   "cell_type": "markdown",
   "metadata": {},
   "source": [
    "## How to Use the Notebook\n",
    "\n",
    "Code is broken up into cells like the one below. There's a triangular `Run` button at the top of this page you can click to execute each cell and move onto the next, or you can press `Shift` + `Enter` while in the cell to execute it and move onto the next one.\n",
    "\n",
    "As a cell is executing you'll notice a line to the side showcase an `*` while the cell is running or it will update to a number to indicate the last cell that completed executing after it has finished exectuting all the code within a cell.\n",
    "\n",
    "\n",
    "Simply follow the instructions below and execute the cells to get started with Amazon Personalize."
   ]
  },
  {
   "cell_type": "markdown",
   "metadata": {},
   "source": [
    "## Imports \n",
    "\n",
    "Python ships with a broad collection of libraries and we need to import those as well as the ones installed to help us like boto3(The AWS SDK) and Pandas/Numpy which are core data science tools"
   ]
  },
  {
   "cell_type": "code",
   "execution_count": 1,
   "metadata": {},
   "outputs": [],
   "source": [
    "# Imports\n",
    "import boto3\n",
    "import json\n",
    "import time"
   ]
  },
  {
   "cell_type": "markdown",
   "metadata": {},
   "source": [
    "Next you will want to validate that your environment can communicate successfully with Amazon Personalize, the lines below do just that."
   ]
  },
  {
   "cell_type": "code",
   "execution_count": 2,
   "metadata": {},
   "outputs": [],
   "source": [
    "# Configure the SDK to Kendra:\n",
    "kendra = boto3.client('kendra')"
   ]
  },
  {
   "cell_type": "markdown",
   "metadata": {},
   "source": [
    "## Configure the data\n",
    "\n",
    "Data is imported into Amazon Personalize through Amazon S3, below we will specify a bucket that you have created within AWS for the purposes of this exercise.\n",
    "\n",
    "Below you will update the `bucket` variable to instead be set to the value that you created earlier in the CloudFormation steps, this should be in a text file from your earlier work. the `filename` does not need to be changed.\n",
    "\n",
    "### Specify a Bucket and Data Output Location"
   ]
  },
  {
   "cell_type": "code",
   "execution_count": 3,
   "metadata": {},
   "outputs": [],
   "source": [
    "region_name = \"us-west-2\"\n",
    "bucket_name = \"hunkim-kendra-sample\"       # replace with the name of your S3 bucket\n",
    "index_name = \"hunkim-kendra-sample\"\n",
    "url2crawl = \"http://www.cse.ust.hk/~hunkim\""
   ]
  },
  {
   "cell_type": "markdown",
   "metadata": {},
   "source": [
    "### Download, Prepare, and Upload Training Data\n",
    "\n",
    "At present you do not have the MovieLens data loaded locally yet for examination, execute the lines below to download the latest copy and to examine it quickly."
   ]
  },
  {
   "cell_type": "markdown",
   "metadata": {},
   "source": [
    "#### Download and Explore the Dataset"
   ]
  },
  {
   "cell_type": "code",
   "execution_count": 4,
   "metadata": {
    "tags": [
     "outputPrepend",
     "outputPrepend",
     "outputPrepend",
     "outputPrepend",
     "outputPrepend",
     "outputPrepend",
     "outputPrepend",
     "outputPrepend",
     "outputPrepend",
     "outputPrepend",
     "outputPrepend",
     "outputPrepend",
     "outputPrepend",
     "outputPrepend",
     "outputPrepend",
     "outputPrepend",
     "outputPrepend",
     "outputPrepend",
     "outputPrepend",
     "outputPrepend",
     "outputPrepend",
     "outputPrepend",
     "outputPrepend",
     "outputPrepend",
     "outputPrepend",
     "outputPrepend",
     "outputPrepend",
     "outputPrepend",
     "outputPrepend",
     "outputPrepend",
     "outputPrepend",
     "outputPrepend",
     "outputPrepend",
     "outputPrepend",
     "outputPrepend",
     "outputPrepend",
     "outputPrepend",
     "outputPrepend",
     "outputPrepend",
     "outputPrepend",
     "outputPrepend",
     "outputPrepend",
     "outputPrepend",
     "outputPrepend",
     "outputPrepend",
     "outputPrepend",
     "outputPrepend",
     "outputPrepend",
     "outputPrepend",
     "outputPrepend",
     "outputPrepend",
     "outputPrepend",
     "outputPrepend",
     "outputPrepend",
     "outputPrepend",
     "outputPrepend",
     "outputPrepend",
     "outputPrepend",
     "outputPrepend",
     "outputPrepend"
    ]
   },
   "outputs": [
    {
     "output_type": "stream",
     "name": "stdout",
     "text": "nkim/images/c/c9/Papers_kim2006fse.pdf\nReusing existing connection to www.cse.ust.hk:80.\nHTTP request sent, awaiting response...200 OK\nLength: 876260 (856K) [application/pdf]\nSaving to: ‘data/www.cse.ust.hk/~hunkim/images/c/c9/Papers_kim2006fse.pdf’\n\nwww.cse.ust.hk/~hun 100%[===================>] 855.72K  --.-KB/s    in 0.08s   \n\n2020-05-31 22:23:04 (10.4 MB/s) - ‘data/www.cse.ust.hk/~hunkim/images/c/c9/Papers_kim2006fse.pdf’ saved [876260/876260]\n\n--2020-05-31 22:23:04--  http://www.cse.ust.hk/~hunkim/images/5/59/Papers_kim2006ase.pdf\nReusing existing connection to www.cse.ust.hk:80.\nHTTP request sent, awaiting response...200 OK\nLength: 1315887 (1.3M) [application/pdf]\nSaving to: ‘data/www.cse.ust.hk/~hunkim/images/5/59/Papers_kim2006ase.pdf’\n\nwww.cse.ust.hk/~hun 100%[===================>]   1.25M  --.-KB/s    in 0.1s    \n\n2020-05-31 22:23:04 (11.2 MB/s) - ‘data/www.cse.ust.hk/~hunkim/images/5/59/Papers_kim2006ase.pdf’ saved [1315887/1315887]\n\n--2020-05-31 22:23:04--  http://www.cse.ust.hk/~hunkim/images/f/f5/Bevan2005fse.pdf\nReusing existing connection to www.cse.ust.hk:80.\nHTTP request sent, awaiting response...200 OK\nLength: 327201 (320K) [application/pdf]\nSaving to: ‘data/www.cse.ust.hk/~hunkim/images/f/f5/Bevan2005fse.pdf’\n\nwww.cse.ust.hk/~hun 100%[===================>] 319.53K  --.-KB/s    in 0.01s   \n\n2020-05-31 22:23:04 (25.7 MB/s) - ‘data/www.cse.ust.hk/~hunkim/images/f/f5/Bevan2005fse.pdf’ saved [327201/327201]\n\n--2020-05-31 22:23:04--  http://www.cse.ust.hk/~hunkim/index.html\nReusing existing connection to www.cse.ust.hk:80.\nHTTP request sent, awaiting response...304 Not Modified\nFile ‘data/www.cse.ust.hk/~hunkim/index.html’ not modified on server. Omitting download.\n\n--2020-05-31 22:23:05--  http://www.cse.ust.hk/~hunkim/Research.html\nReusing existing connection to www.cse.ust.hk:80.\nHTTP request sent, awaiting response...200 OK\nLength: 11219 (11K) [text/html]\nSaving to: ‘data/www.cse.ust.hk/~hunkim/Research.html’\n\nwww.cse.ust.hk/~hun 100%[===================>]  10.96K  --.-KB/s    in 0.001s  \n\n2020-05-31 22:23:05 (16.2 MB/s) - ‘data/www.cse.ust.hk/~hunkim/Research.html’ saved [11219/11219]\n\n--2020-05-31 22:23:05--  http://www.cse.ust.hk/~hunkim/Software.html\nReusing existing connection to www.cse.ust.hk:80.\nHTTP request sent, awaiting response...200 OK\nLength: 5070 (5.0K) [text/html]\nSaving to: ‘data/www.cse.ust.hk/~hunkim/Software.html’\n\nwww.cse.ust.hk/~hun 100%[===================>]   4.95K  --.-KB/s    in 0s      \n\n2020-05-31 22:23:05 (70.1 MB/s) - ‘data/www.cse.ust.hk/~hunkim/Software.html’ saved [5070/5070]\n\n--2020-05-31 22:23:05--  http://www.cse.ust.hk/~hunkim/Service.html\nReusing existing connection to www.cse.ust.hk:80.\nHTTP request sent, awaiting response...200 OK\nLength: 14615 (14K) [text/html]\nSaving to: ‘data/www.cse.ust.hk/~hunkim/Service.html’\n\nwww.cse.ust.hk/~hun 100%[===================>]  14.27K  --.-KB/s    in 0.001s  \n\n2020-05-31 22:23:05 (12.3 MB/s) - ‘data/www.cse.ust.hk/~hunkim/Service.html’ saved [14615/14615]\n\n--2020-05-31 22:23:05--  http://www.cse.ust.hk/~hunkim/Bio.html\nReusing existing connection to www.cse.ust.hk:80.\nHTTP request sent, awaiting response...200 OK\nLength: 5541 (5.4K) [text/html]\nSaving to: ‘data/www.cse.ust.hk/~hunkim/Bio.html’\n\nwww.cse.ust.hk/~hun 100%[===================>]   5.41K  --.-KB/s    in 0s      \n\n2020-05-31 22:23:05 (25.3 MB/s) - ‘data/www.cse.ust.hk/~hunkim/Bio.html’ saved [5541/5541]\n\n--2020-05-31 22:23:05--  http://www.cse.ust.hk/~hunkim/Contact.html\nReusing existing connection to www.cse.ust.hk:80.\nHTTP request sent, awaiting response...200 OK\nLength: 4984 (4.9K) [text/html]\nSaving to: ‘data/www.cse.ust.hk/~hunkim/Contact.html’\n\nwww.cse.ust.hk/~hun 100%[===================>]   4.87K  --.-KB/s    in 0s      \n\n2020-05-31 22:23:05 (297 MB/s) - ‘data/www.cse.ust.hk/~hunkim/Contact.html’ saved [4984/4984]\n\n--2020-05-31 22:23:05--  http://www.cse.ust.hk/~hunkim/course_evaluation/COMP-3111-L1-2014Spring.pdf\nReusing existing connection to www.cse.ust.hk:80.\nHTTP request sent, awaiting response...200 OK\nLength: 97000 (95K) [application/pdf]\nSaving to: ‘data/www.cse.ust.hk/~hunkim/course_evaluation/COMP-3111-L1-2014Spring.pdf’\n\nwww.cse.ust.hk/~hun 100%[===================>]  94.73K  --.-KB/s    in 0.001s  \n\n2020-05-31 22:23:05 (83.3 MB/s) - ‘data/www.cse.ust.hk/~hunkim/course_evaluation/COMP-3111-L1-2014Spring.pdf’ saved [97000/97000]\n\n--2020-05-31 22:23:05--  http://www.cse.ust.hk/~hunkim/course_evaluation/COMP-3111-L2-2014Spring.pdf\nReusing existing connection to www.cse.ust.hk:80.\nHTTP request sent, awaiting response...200 OK\nLength: 94750 (93K) [application/pdf]\nSaving to: ‘data/www.cse.ust.hk/~hunkim/course_evaluation/COMP-3111-L2-2014Spring.pdf’\n\nwww.cse.ust.hk/~hun 100%[===================>]  92.53K  --.-KB/s    in 0.001s  \n\n2020-05-31 22:23:05 (96.3 MB/s) - ‘data/www.cse.ust.hk/~hunkim/course_evaluation/COMP-3111-L2-2014Spring.pdf’ saved [94750/94750]\n\n--2020-05-31 22:23:05--  http://www.cse.ust.hk/~hunkim/course_evaluation/COMP-3111H-2014Spring.pdf\nReusing existing connection to www.cse.ust.hk:80.\nHTTP request sent, awaiting response...200 OK\nLength: 91657 (90K) [application/pdf]\nSaving to: ‘data/www.cse.ust.hk/~hunkim/course_evaluation/COMP-3111H-2014Spring.pdf’\n\nwww.cse.ust.hk/~hun 100%[===================>]  89.51K  --.-KB/s    in 0.001s  \n\n2020-05-31 22:23:05 (94.8 MB/s) - ‘data/www.cse.ust.hk/~hunkim/course_evaluation/COMP-3111H-2014Spring.pdf’ saved [91657/91657]\n\n--2020-05-31 22:23:05--  http://www.cse.ust.hk/~hunkim/course_evaluation/COMP-3111-L1-2013Spring.pdf\nReusing existing connection to www.cse.ust.hk:80.\nHTTP request sent, awaiting response...200 OK\nLength: 101724 (99K) [application/pdf]\nSaving to: ‘data/www.cse.ust.hk/~hunkim/course_evaluation/COMP-3111-L1-2013Spring.pdf’\n\nwww.cse.ust.hk/~hun 100%[===================>]  99.34K  --.-KB/s    in 0.001s  \n\n2020-05-31 22:23:05 (88.7 MB/s) - ‘data/www.cse.ust.hk/~hunkim/course_evaluation/COMP-3111-L1-2013Spring.pdf’ saved [101724/101724]\n\n--2020-05-31 22:23:05--  http://www.cse.ust.hk/~hunkim/course_evaluation/COMP-3111-L2-2013Spring.pdf\nReusing existing connection to www.cse.ust.hk:80.\nHTTP request sent, awaiting response...200 OK\nLength: 107129 (105K) [application/pdf]\nSaving to: ‘data/www.cse.ust.hk/~hunkim/course_evaluation/COMP-3111-L2-2013Spring.pdf’\n\nwww.cse.ust.hk/~hun 100%[===================>] 104.62K  --.-KB/s    in 0.001s  \n\n2020-05-31 22:23:05 (82.9 MB/s) - ‘data/www.cse.ust.hk/~hunkim/course_evaluation/COMP-3111-L2-2013Spring.pdf’ saved [107129/107129]\n\n--2020-05-31 22:23:05--  http://www.cse.ust.hk/~hunkim/course_evaluation/COMP-3111H-2013Spring.pdf\nReusing existing connection to www.cse.ust.hk:80.\nHTTP request sent, awaiting response...200 OK\nLength: 92149 (90K) [application/pdf]\nSaving to: ‘data/www.cse.ust.hk/~hunkim/course_evaluation/COMP-3111H-2013Spring.pdf’\n\nwww.cse.ust.hk/~hun 100%[===================>]  89.99K  --.-KB/s    in 0.001s  \n\n2020-05-31 22:23:06 (78.8 MB/s) - ‘data/www.cse.ust.hk/~hunkim/course_evaluation/COMP-3111H-2013Spring.pdf’ saved [92149/92149]\n\n--2020-05-31 22:23:06--  http://www.cse.ust.hk/~hunkim/images/3/3d/Cer_comp1022p_fall2011.pdf\nReusing existing connection to www.cse.ust.hk:80.\nHTTP request sent, awaiting response...200 OK\nLength: 122497 (120K) [application/pdf]\nSaving to: ‘data/www.cse.ust.hk/~hunkim/images/3/3d/Cer_comp1022p_fall2011.pdf’\n\nwww.cse.ust.hk/~hun 100%[===================>] 119.63K  --.-KB/s    in 0.001s  \n\n2020-05-31 22:23:06 (103 MB/s) - ‘data/www.cse.ust.hk/~hunkim/images/3/3d/Cer_comp1022p_fall2011.pdf’ saved [122497/122497]\n\n--2020-05-31 22:23:06--  http://www.cse.ust.hk/~hunkim/images/f/f8/Cer_comp211_spring2011.pdf\nReusing existing connection to www.cse.ust.hk:80.\nHTTP request sent, awaiting response...200 OK\nLength: 113035 (110K) [application/pdf]\nSaving to: ‘data/www.cse.ust.hk/~hunkim/images/f/f8/Cer_comp211_spring2011.pdf’\n\nwww.cse.ust.hk/~hun 100%[===================>] 110.39K  --.-KB/s    in 0.001s  \n\n2020-05-31 22:23:06 (75.6 MB/s) - ‘data/www.cse.ust.hk/~hunkim/images/f/f8/Cer_comp211_spring2011.pdf’ saved [113035/113035]\n\n--2020-05-31 22:23:06--  http://www.cse.ust.hk/~hunkim/images/5/51/Cer_comp104_fall2010.pdf\nReusing existing connection to www.cse.ust.hk:80.\nHTTP request sent, awaiting response...200 OK\nLength: 121542 (119K) [application/pdf]\nSaving to: ‘data/www.cse.ust.hk/~hunkim/images/5/51/Cer_comp104_fall2010.pdf’\n\nwww.cse.ust.hk/~hun 100%[===================>] 118.69K  --.-KB/s    in 0.003s  \n\n2020-05-31 22:23:06 (43.2 MB/s) - ‘data/www.cse.ust.hk/~hunkim/images/5/51/Cer_comp104_fall2010.pdf’ saved [121542/121542]\n\n--2020-05-31 22:23:06--  http://www.cse.ust.hk/~hunkim/images/7/7c/Cer_comp211_fall2009.pdf\nReusing existing connection to www.cse.ust.hk:80.\nHTTP request sent, awaiting response...200 OK\nLength: 116334 (114K) [application/pdf]\nSaving to: ‘data/www.cse.ust.hk/~hunkim/images/7/7c/Cer_comp211_fall2009.pdf’\n\nwww.cse.ust.hk/~hun 100%[===================>] 113.61K  --.-KB/s    in 0.001s  \n\n2020-05-31 22:23:06 (85.9 MB/s) - ‘data/www.cse.ust.hk/~hunkim/images/7/7c/Cer_comp211_fall2009.pdf’ saved [116334/116334]\n\n--2020-05-31 22:23:06--  http://www.cse.ust.hk/~hunkim/images/b/b2/Cer_comp610I_fall2009.pdf\nReusing existing connection to www.cse.ust.hk:80.\nHTTP request sent, awaiting response...200 OK\nLength: 91117 (89K) [application/pdf]\nSaving to: ‘data/www.cse.ust.hk/~hunkim/images/b/b2/Cer_comp610I_fall2009.pdf’\n\nwww.cse.ust.hk/~hun 100%[===================>]  88.98K  --.-KB/s    in 0.001s  \n\n2020-05-31 22:23:06 (85.3 MB/s) - ‘data/www.cse.ust.hk/~hunkim/images/b/b2/Cer_comp610I_fall2009.pdf’ saved [91117/91117]\n\n--2020-05-31 22:23:06--  http://www.cse.ust.hk/~hunkim/papers/lee-jcse2015.pdf\nReusing existing connection to www.cse.ust.hk:80.\nHTTP request sent, awaiting response...200 OK\nLength: 1503338 (1.4M) [application/pdf]\nSaving to: ‘data/www.cse.ust.hk/~hunkim/papers/lee-jcse2015.pdf’\n\nwww.cse.ust.hk/~hun 100%[===================>]   1.43M  --.-KB/s    in 0.1s    \n\n2020-05-31 22:23:06 (10.8 MB/s) - ‘data/www.cse.ust.hk/~hunkim/papers/lee-jcse2015.pdf’ saved [1503338/1503338]\n\n--2020-05-31 22:23:06--  http://www.cse.ust.hk/~hunkim/papers/tao-icsme2014.pdf\nReusing existing connection to www.cse.ust.hk:80.\nHTTP request sent, awaiting response...200 OK\nLength: 1039909 (1016K) [application/pdf]\nSaving to: ‘data/www.cse.ust.hk/~hunkim/papers/tao-icsme2014.pdf’\n\nwww.cse.ust.hk/~hun 100%[===================>]   1016K  --.-KB/s    in 0.09s   \n\n2020-05-31 22:23:06 (10.9 MB/s) - ‘data/www.cse.ust.hk/~hunkim/papers/tao-icsme2014.pdf’ saved [1039909/1039909]\n\n--2020-05-31 22:23:06--  http://www.cse.ust.hk/~hunkim/papers/data_race_evolution_msr2012.pdf\nReusing existing connection to www.cse.ust.hk:80.\nHTTP request sent, awaiting response...200 OK\nLength: 3206275 (3.1M) [application/pdf]\nSaving to: ‘data/www.cse.ust.hk/~hunkim/papers/data_race_evolution_msr2012.pdf’\n\nwww.cse.ust.hk/~hun 100%[===================>]   3.06M  11.0MB/s    in 0.3s    \n\n2020-05-31 22:23:07 (11.0 MB/s) - ‘data/www.cse.ust.hk/~hunkim/papers/data_race_evolution_msr2012.pdf’ saved [3206275/3206275]\n\n--2020-05-31 22:23:07--  http://www.cse.ust.hk/~hunkim/images/1/1c/Dsn_icsm2011.pdf\nReusing existing connection to www.cse.ust.hk:80.\nHTTP request sent, awaiting response...200 OK\nLength: 1063254 (1.0M) [application/pdf]\nSaving to: ‘data/www.cse.ust.hk/~hunkim/images/1/1c/Dsn_icsm2011.pdf’\n\nwww.cse.ust.hk/~hun 100%[===================>]   1.01M  --.-KB/s    in 0.09s   \n\n2020-05-31 22:23:07 (11.1 MB/s) - ‘data/www.cse.ust.hk/~hunkim/images/1/1c/Dsn_icsm2011.pdf’ saved [1063254/1063254]\n\n--2020-05-31 22:23:07--  http://www.cse.ust.hk/~hunkim/images/3/3c/Codesearch_icde2011.pdf\nReusing existing connection to www.cse.ust.hk:80.\nHTTP request sent, awaiting response...200 OK\nLength: 283779 (277K) [application/pdf]\nSaving to: ‘data/www.cse.ust.hk/~hunkim/images/3/3c/Codesearch_icde2011.pdf’\n\nwww.cse.ust.hk/~hun 100%[===================>] 277.13K  --.-KB/s    in 0.01s   \n\n2020-05-31 22:23:07 (19.9 MB/s) - ‘data/www.cse.ust.hk/~hunkim/images/3/3c/Codesearch_icde2011.pdf’ saved [283779/283779]\n\n--2020-05-31 22:23:07--  http://www.cse.ust.hk/~hunkim/images/e/ed/Quality_software2010.pdf\nReusing existing connection to www.cse.ust.hk:80.\nHTTP request sent, awaiting response...200 OK\nLength: 651427 (636K) [application/pdf]\nSaving to: ‘data/www.cse.ust.hk/~hunkim/images/e/ed/Quality_software2010.pdf’\n\nwww.cse.ust.hk/~hun 100%[===================>] 636.16K  --.-KB/s    in 0.02s   \n\n2020-05-31 22:23:07 (32.9 MB/s) - ‘data/www.cse.ust.hk/~hunkim/images/e/ed/Quality_software2010.pdf’ saved [651427/651427]\n\n--2020-05-31 22:23:07--  http://www.cse.ust.hk/~hunkim/images/b/be/Papers_kim2009ase.pdf\nReusing existing connection to www.cse.ust.hk:80.\nHTTP request sent, awaiting response...200 OK\nLength: 577077 (564K) [application/pdf]\nSaving to: ‘data/www.cse.ust.hk/~hunkim/images/b/be/Papers_kim2009ase.pdf’\n\nwww.cse.ust.hk/~hun 100%[===================>] 563.55K  --.-KB/s    in 0.02s   \n\n2020-05-31 22:23:07 (26.2 MB/s) - ‘data/www.cse.ust.hk/~hunkim/images/b/be/Papers_kim2009ase.pdf’ saved [577077/577077]\n\n--2020-05-31 22:23:07--  http://www.cse.ust.hk/~hunkim/images/7/7b/Papers_shiv2009ase.pdf\nReusing existing connection to www.cse.ust.hk:80.\nHTTP request sent, awaiting response...200 OK\nLength: 410981 (401K) [application/pdf]\nSaving to: ‘data/www.cse.ust.hk/~hunkim/images/7/7b/Papers_shiv2009ase.pdf’\n\nwww.cse.ust.hk/~hun 100%[===================>] 401.35K  --.-KB/s    in 0.008s  \n\n2020-05-31 22:23:07 (47.9 MB/s) - ‘data/www.cse.ust.hk/~hunkim/images/7/7b/Papers_shiv2009ase.pdf’ saved [410981/410981]\n\n--2020-05-31 22:23:07--  http://www.cse.ust.hk/~hunkim/images/4/44/Papers_kim2009fse.pdf\nReusing existing connection to www.cse.ust.hk:80.\nHTTP request sent, awaiting response...200 OK\nLength: 81027 (79K) [application/pdf]\nSaving to: ‘data/www.cse.ust.hk/~hunkim/images/4/44/Papers_kim2009fse.pdf’\n\nwww.cse.ust.hk/~hun 100%[===================>]  79.13K  --.-KB/s    in 0.003s  \n\n2020-05-31 22:23:08 (28.0 MB/s) - ‘data/www.cse.ust.hk/~hunkim/images/4/44/Papers_kim2009fse.pdf’ saved [81027/81027]\n\n--2020-05-31 22:23:08--  http://www.cse.ust.hk/~hunkim/images/9/99/Papers_jaygarl2009.pdf\nReusing existing connection to www.cse.ust.hk:80.\nHTTP request sent, awaiting response...200 OK\nLength: 270711 (264K) [application/pdf]\nSaving to: ‘data/www.cse.ust.hk/~hunkim/images/9/99/Papers_jaygarl2009.pdf’\n\nwww.cse.ust.hk/~hun 100%[===================>] 264.37K  --.-KB/s    in 0.004s  \n\n2020-05-31 22:23:08 (58.9 MB/s) - ‘data/www.cse.ust.hk/~hunkim/images/9/99/Papers_jaygarl2009.pdf’ saved [270711/270711]\n\n--2020-05-31 22:23:08--  http://www.cse.ust.hk/~hunkim/images/d/d3/Papers_kim2009icpc.pdf\nReusing existing connection to www.cse.ust.hk:80.\nHTTP request sent, awaiting response...200 OK\nLength: 196201 (192K) [application/pdf]\nSaving to: ‘data/www.cse.ust.hk/~hunkim/images/d/d3/Papers_kim2009icpc.pdf’\n\nwww.cse.ust.hk/~hun 100%[===================>] 191.60K  --.-KB/s    in 0.009s  \n\n2020-05-31 22:23:08 (20.4 MB/s) - ‘data/www.cse.ust.hk/~hunkim/images/d/d3/Papers_kim2009icpc.pdf’ saved [196201/196201]\n\n--2020-05-31 22:23:08--  http://www.cse.ust.hk/~hunkim/images/f/f5/Papers_pan2008esme.pdf\nReusing existing connection to www.cse.ust.hk:80.\nHTTP request sent, awaiting response...200 OK\nLength: 445842 (435K) [application/pdf]\nSaving to: ‘data/www.cse.ust.hk/~hunkim/images/f/f5/Papers_pan2008esme.pdf’\n\nwww.cse.ust.hk/~hun 100%[===================>] 435.39K  --.-KB/s    in 0.02s   \n\n2020-05-31 22:23:08 (24.3 MB/s) - ‘data/www.cse.ust.hk/~hunkim/images/f/f5/Papers_pan2008esme.pdf’ saved [445842/445842]\n\n--2020-05-31 22:23:08--  http://www.cse.ust.hk/~hunkim/images/b/b2/Papers_Bettenburg2008icsm.pdf\nReusing existing connection to www.cse.ust.hk:80.\nHTTP request sent, awaiting response...200 OK\nLength: 200514 (196K) [application/pdf]\nSaving to: ‘data/www.cse.ust.hk/~hunkim/images/b/b2/Papers_Bettenburg2008icsm.pdf’\n\nwww.cse.ust.hk/~hun 100%[===================>] 195.81K  --.-KB/s    in 0.01s   \n\n2020-05-31 22:23:08 (19.6 MB/s) - ‘data/www.cse.ust.hk/~hunkim/images/b/b2/Papers_Bettenburg2008icsm.pdf’ saved [200514/200514]\n\n--2020-05-31 22:23:08--  http://www.cse.ust.hk/~hunkim/images/e/eb/Papers_Bettenburg2008msr.pdf\nReusing existing connection to www.cse.ust.hk:80.\nHTTP request sent, awaiting response...200 OK\nLength: 967513 (945K) [application/pdf]\nSaving to: ‘data/www.cse.ust.hk/~hunkim/images/e/eb/Papers_Bettenburg2008msr.pdf’\n\nwww.cse.ust.hk/~hun 100%[===================>] 944.84K  --.-KB/s    in 0.04s   \n\n2020-05-31 22:23:08 (24.5 MB/s) - ‘data/www.cse.ust.hk/~hunkim/images/e/eb/Papers_Bettenburg2008msr.pdf’ saved [967513/967513]\n\n--2020-05-31 22:23:08--  http://www.cse.ust.hk/~hunkim/images/1/16/Papers_kim_2007_icse.pdf\nReusing existing connection to www.cse.ust.hk:80.\nHTTP request sent, awaiting response...200 OK\nLength: 367014 (358K) [application/pdf]\nSaving to: ‘data/www.cse.ust.hk/~hunkim/images/1/16/Papers_kim_2007_icse.pdf’\n\nwww.cse.ust.hk/~hun 100%[===================>] 358.41K  --.-KB/s    in 0.01s   \n\n2020-05-31 22:23:08 (32.6 MB/s) - ‘data/www.cse.ust.hk/~hunkim/images/1/16/Papers_kim_2007_icse.pdf’ saved [367014/367014]\n\n--2020-05-31 22:23:08--  http://www.cse.ust.hk/~hunkim/images/c/c6/Papers_kim_2007_msr.pdf\nReusing existing connection to www.cse.ust.hk:80.\nHTTP request sent, awaiting response...200 OK\nLength: 189988 (186K) [application/pdf]\nSaving to: ‘data/www.cse.ust.hk/~hunkim/images/c/c6/Papers_kim_2007_msr.pdf’\n\nwww.cse.ust.hk/~hun 100%[===================>] 185.54K  --.-KB/s    in 0.007s  \n\n2020-05-31 22:23:08 (25.7 MB/s) - ‘data/www.cse.ust.hk/~hunkim/images/c/c6/Papers_kim_2007_msr.pdf’ saved [189988/189988]\n\n--2020-05-31 22:23:08--  http://www.cse.ust.hk/~hunkim/images/e/e6/Papers_kim2006icsm.pdf\nReusing existing connection to www.cse.ust.hk:80.\nHTTP request sent, awaiting response...200 OK\nLength: 761925 (744K) [application/pdf]\nSaving to: ‘data/www.cse.ust.hk/~hunkim/images/e/e6/Papers_kim2006icsm.pdf’\n\nwww.cse.ust.hk/~hun 100%[===================>] 744.07K  --.-KB/s    in 0.1s    \n\n2020-05-31 22:23:08 (5.11 MB/s) - ‘data/www.cse.ust.hk/~hunkim/images/e/e6/Papers_kim2006icsm.pdf’ saved [761925/761925]\n\n--2020-05-31 22:23:08--  http://www.cse.ust.hk/~hunkim/images/f/f0/Papers_pan2006scam.pdf\nReusing existing connection to www.cse.ust.hk:80.\nHTTP request sent, awaiting response...200 OK\nLength: 249837 (244K) [application/pdf]\nSaving to: ‘data/www.cse.ust.hk/~hunkim/images/f/f0/Papers_pan2006scam.pdf’\n\nwww.cse.ust.hk/~hun 100%[===================>] 243.98K  --.-KB/s    in 0.01s   \n\n2020-05-31 22:23:09 (23.1 MB/s) - ‘data/www.cse.ust.hk/~hunkim/images/f/f0/Papers_pan2006scam.pdf’ saved [249837/249837]\n\n--2020-05-31 22:23:09--  http://www.cse.ust.hk/~hunkim/images/f/f7/Kim2006msr1.pdf\nReusing existing connection to www.cse.ust.hk:80.\nHTTP request sent, awaiting response...200 OK\nLength: 624735 (610K) [application/pdf]\nSaving to: ‘data/www.cse.ust.hk/~hunkim/images/f/f7/Kim2006msr1.pdf’\n\nwww.cse.ust.hk/~hun 100%[===================>] 610.09K  --.-KB/s    in 0.05s   \n\n2020-05-31 22:23:09 (12.3 MB/s) - ‘data/www.cse.ust.hk/~hunkim/images/f/f7/Kim2006msr1.pdf’ saved [624735/624735]\n\nFINISHED --2020-05-31 22:23:09--\nTotal wall clock time: 24s\nDownloaded: 84 files, 59M in 15s (4.02 MB/s)\nConverting links in data/www.cse.ust.hk/~hunkim/index.html... 57-15\nConverting links in data/www.cse.ust.hk/~hunkim/Research.html... 9-5\nConverting links in data/www.cse.ust.hk/~hunkim/Service.html... 9-5\nConverting links in data/www.cse.ust.hk/~hunkim/Bio.html... 9-6\nConverting links in data/www.cse.ust.hk/~hunkim/Students.html... 9-5\nConverting links in data/www.cse.ust.hk/~hunkim/Software.html... 9-5\nConverting links in data/www.cse.ust.hk/~hunkim/Publications.html... 68-5\nConverting links in data/www.cse.ust.hk/~hunkim/Teaching.html... 20-5\nConverting links in data/www.cse.ust.hk/~hunkim/Contact.html... 9-8\nConverted links in 9 files in 0.007 seconds.\n\u001b[34mwww.cse.ust.hk\u001b[m\u001b[m\n"
    }
   ],
   "source": [
    "!rm -rf data\n",
    "!mkdir data\n",
    "!wget -P data --reject jpg,png,ico,jpeg,css  --accept html,pdf -m -p -E -k -K -np http://www.cse.ust.hk/~hunkim/\n",
    "!ls data"
   ]
  },
  {
   "cell_type": "markdown",
   "metadata": {},
   "source": [
    "#### Prepare and Upload Data\n",
    "\n",
    "As you can see the data contains a UserID, ItemID, Rating, and Timestamp.\n",
    "\n",
    "We are now going to remove the items with low rankings, and remove that column before we build our model.\n",
    "\n",
    "Once done we will now save the file as a new CSV and then upload it to S3.\n",
    "\n",
    "All of that is done by simply executing the lines below."
   ]
  },
  {
   "cell_type": "code",
   "execution_count": 5,
   "metadata": {},
   "outputs": [],
   "source": [
    "# https://www.developerfiles.com/upload-files-to-s3-with-python-keeping-the-original-folder-structure/\n",
    "def upload_dir_s3(local_path):\n",
    "    s3_client = boto3.Session().resource('s3')\n",
    "    s3_bucket = s3_client.Bucket(bucket_name)\n",
    "\n",
    "    for subdir, dirs, files in os.walk(local_path):\n",
    "        for file in files:\n",
    "            full_path = os.path.join(subdir, file)\n",
    "            with open(full_path, 'rb') as data:\n",
    "                print(\"Uploadng \" + full_path)\n",
    "                s3_bucket.put_object(Key=full_path[len(local_path)+1:], Body=data)"
   ]
  },
  {
   "cell_type": "code",
   "execution_count": 6,
   "metadata": {},
   "outputs": [
    {
     "output_type": "stream",
     "name": "stdout",
     "text": "Uploadng data/www.cse.ust.hk/robots.txt.tmp\nUploadng data/www.cse.ust.hk/~hunkim/Students.html\nUploadng data/www.cse.ust.hk/~hunkim/Software.html\nUploadng data/www.cse.ust.hk/~hunkim/Research.html.orig\nUploadng data/www.cse.ust.hk/~hunkim/index.html\nUploadng data/www.cse.ust.hk/~hunkim/Bio.html\nUploadng data/www.cse.ust.hk/~hunkim/Teaching.html.orig\nUploadng data/www.cse.ust.hk/~hunkim/Contact.html\nUploadng data/www.cse.ust.hk/~hunkim/Research.html\nUploadng data/www.cse.ust.hk/~hunkim/index.html.orig\nUploadng data/www.cse.ust.hk/~hunkim/Bio.html.orig\nUploadng data/www.cse.ust.hk/~hunkim/Software.html.orig\nUploadng data/www.cse.ust.hk/~hunkim/Service.html.orig\nUploadng data/www.cse.ust.hk/~hunkim/Contact.html.orig\nUploadng data/www.cse.ust.hk/~hunkim/Service.html\nUploadng data/www.cse.ust.hk/~hunkim/Publications.html.orig\nUploadng data/www.cse.ust.hk/~hunkim/Students.html.orig\nUploadng data/www.cse.ust.hk/~hunkim/Teaching.html\nUploadng data/www.cse.ust.hk/~hunkim/Publications.html\nUploadng data/www.cse.ust.hk/~hunkim/course_evaluation/COMP-3111H-2014Spring.pdf\nUploadng data/www.cse.ust.hk/~hunkim/course_evaluation/COMP-3111-L2-2014Spring.pdf\nUploadng data/www.cse.ust.hk/~hunkim/course_evaluation/COMP-3111-L1-2013Spring.pdf\nUploadng data/www.cse.ust.hk/~hunkim/course_evaluation/COMP-3111-L1-2014Spring.pdf\nUploadng data/www.cse.ust.hk/~hunkim/course_evaluation/COMP-3111-L2-2013Spring.pdf\nUploadng data/www.cse.ust.hk/~hunkim/course_evaluation/COMP-3111H-2013Spring.pdf\nUploadng data/www.cse.ust.hk/~hunkim/papers/data_race_evolution_msr2012.pdf\nUploadng data/www.cse.ust.hk/~hunkim/papers/nam-HDP-fse2015.pdf\nUploadng data/www.cse.ust.hk/~hunkim/papers/seo-fse2014.pdf\nUploadng data/www.cse.ust.hk/~hunkim/papers/kim-REMI(industry)-fse2015.pdf\nUploadng data/www.cse.ust.hk/~hunkim/papers/lee-tse2016.pdf\nUploadng data/www.cse.ust.hk/~hunkim/papers/jiang-ase2013.pdf\nUploadng data/www.cse.ust.hk/~hunkim/papers/lee-tse2015.pdf\nUploadng data/www.cse.ust.hk/~hunkim/papers/kim-icse2013.pdf\nUploadng data/www.cse.ust.hk/~hunkim/papers/kim-tois2013.pdf\nUploadng data/www.cse.ust.hk/~hunkim/papers/top_crash_tse2011.pdf\nUploadng data/www.cse.ust.hk/~hunkim/papers/seo-ase2012.pdf\nUploadng data/www.cse.ust.hk/~hunkim/papers/tao-msr2015.pdf\nUploadng data/www.cse.ust.hk/~hunkim/papers/nam-icse2013.pdf\nUploadng data/www.cse.ust.hk/~hunkim/papers/chen-tse2015.pdf\nUploadng data/www.cse.ust.hk/~hunkim/papers/chen-crowd-debugging-fse2015.pdf\nUploadng data/www.cse.ust.hk/~hunkim/papers/gu-ijcai2017.pdf\nUploadng data/www.cse.ust.hk/~hunkim/papers/gu-fse2016.pdf\nUploadng data/www.cse.ust.hk/~hunkim/papers/kim-tse2013.pdf\nUploadng data/www.cse.ust.hk/~hunkim/papers/lee-jcse2015.pdf\nUploadng data/www.cse.ust.hk/~hunkim/papers/shiv-tse2013.pdf\nUploadng data/www.cse.ust.hk/~hunkim/papers/chen-ase2012.pdf\nUploadng data/www.cse.ust.hk/~hunkim/papers/tao-fse2014.pdf\nUploadng data/www.cse.ust.hk/~hunkim/papers/gu-ase2015.pdf\nUploadng data/www.cse.ust.hk/~hunkim/papers/wurx_issta2014.pdf\nUploadng data/www.cse.ust.hk/~hunkim/papers/cheung-emse2016.pdf\nUploadng data/www.cse.ust.hk/~hunkim/papers/tao-fse2012.pdf\nUploadng data/www.cse.ust.hk/~hunkim/papers/nam-ase2015.pdf\nUploadng data/www.cse.ust.hk/~hunkim/papers/tao-icsme2014.pdf\nUploadng data/www.cse.ust.hk/~hunkim/papers/kim-tse-2008.pdf\nUploadng data/www.cse.ust.hk/~hunkim/images/9/92/Automatic-patching-sosp2009.pdf\nUploadng data/www.cse.ust.hk/~hunkim/images/9/99/Papers_jaygarl2009.pdf\nUploadng data/www.cse.ust.hk/~hunkim/images/9/99/Ocat_issta2010.pdf\nUploadng data/www.cse.ust.hk/~hunkim/images/7/7c/Cer_comp211_fall2009.pdf\nUploadng data/www.cse.ust.hk/~hunkim/images/7/7b/Papers_shiv2009ase.pdf\nUploadng data/www.cse.ust.hk/~hunkim/images/6/65/Papers_jeong2009fse.pdf\nUploadng data/www.cse.ust.hk/~hunkim/images/1/16/Papers_kim_2007_icse.pdf\nUploadng data/www.cse.ust.hk/~hunkim/images/1/10/Exoa_aaai2010.pdf\nUploadng data/www.cse.ust.hk/~hunkim/images/1/1c/Dsn_icsm2011.pdf\nUploadng data/www.cse.ust.hk/~hunkim/images/a/a3/Papers_kim_2008_ecoop.pdf\nUploadng data/www.cse.ust.hk/~hunkim/images/f/f5/Bevan2005fse.pdf\nUploadng data/www.cse.ust.hk/~hunkim/images/f/f5/Papers_pan2008esme.pdf\nUploadng data/www.cse.ust.hk/~hunkim/images/f/f0/Papers_pan2006scam.pdf\nUploadng data/www.cse.ust.hk/~hunkim/images/f/f7/Kim2006msr1.pdf\nUploadng data/www.cse.ust.hk/~hunkim/images/f/f8/Cer_comp211_spring2011.pdf\nUploadng data/www.cse.ust.hk/~hunkim/images/c/c9/Papers_kim2006fse.pdf\nUploadng data/www.cse.ust.hk/~hunkim/images/c/c1/Cotriage_aaai2011.pdf\nUploadng data/www.cse.ust.hk/~hunkim/images/c/c6/Papers_kim_2007_msr.pdf\nUploadng data/www.cse.ust.hk/~hunkim/images/c/c2/Mim_fse2011.pdf\nUploadng data/www.cse.ust.hk/~hunkim/images/c/cb/Nr_icse2011.pdf\nUploadng data/www.cse.ust.hk/~hunkim/images/d/d3/Papers_kim2009icpc.pdf\nUploadng data/www.cse.ust.hk/~hunkim/images/4/45/Crash_graphs_dsn2011.pdf\nUploadng data/www.cse.ust.hk/~hunkim/images/4/44/Papers_kim2009fse.pdf\nUploadng data/www.cse.ust.hk/~hunkim/images/3/3c/Codesearch_icde2011.pdf\nUploadng data/www.cse.ust.hk/~hunkim/images/3/3d/Cer_comp1022p_fall2011.pdf\nUploadng data/www.cse.ust.hk/~hunkim/images/3/37/Papers_kim_2007_bugcache.pdf\nUploadng data/www.cse.ust.hk/~hunkim/images/e/eb/Papers_Bettenburg2008msr.pdf\nUploadng data/www.cse.ust.hk/~hunkim/images/e/ed/Quality_software2010.pdf\nUploadng data/www.cse.ust.hk/~hunkim/images/e/ef/Cc_fse2010.pdf\nUploadng data/www.cse.ust.hk/~hunkim/images/e/e6/Papers_kim2006icsm.pdf\nUploadng data/www.cse.ust.hk/~hunkim/images/e/e8/Papers_kim_2007_fse.pdf\nUploadng data/www.cse.ust.hk/~hunkim/images/b/b2/Papers_Bettenburg2008icsm.pdf\nUploadng data/www.cse.ust.hk/~hunkim/images/b/b2/Cer_comp610I_fall2009.pdf\nUploadng data/www.cse.ust.hk/~hunkim/images/b/be/Papers_kim2009ase.pdf\nUploadng data/www.cse.ust.hk/~hunkim/images/b/ba/Refactoring_icse2011.pdf\nUploadng data/www.cse.ust.hk/~hunkim/images/b/b6/Relink_fse2011.pdf\nUploadng data/www.cse.ust.hk/~hunkim/images/5/59/Papers_kim2006ase.pdf\nUploadng data/www.cse.ust.hk/~hunkim/images/5/56/Mecc_icse2011.pdf\nUploadng data/www.cse.ust.hk/~hunkim/images/5/51/Cer_comp104_fall2010.pdf\n"
    }
   ],
   "source": [
    "if boto3.Session().resource('s3').Bucket(bucket_name).creation_date is None:\n",
    "    try:\n",
    "        s3_client = boto3.client('s3', region_name=region_name)\n",
    "        location = {'LocationConstraint': region_name}\n",
    "        s3_client.create_bucket(Bucket=bucket_name,\n",
    "                                CreateBucketConfiguration=location)\n",
    "    except ClientError as e:\n",
    "        logging.error(e)\n",
    "else:\n",
    "    print(\"We found \" + bucket_name)\n",
    "    \n",
    "upload_dir_s3(\"data\")"
   ]
  },
  {
   "cell_type": "markdown",
   "metadata": {},
   "source": [
    "### Create Index\n"
   ]
  },
  {
   "cell_type": "markdown",
   "metadata": {},
   "source": [
    "#### Create IAM for index and data source"
   ]
  },
  {
   "cell_type": "code",
   "execution_count": 7,
   "metadata": {},
   "outputs": [
    {
     "output_type": "stream",
     "name": "stdout",
     "text": "An error occurred (NoSuchEntity) when calling the ListAttachedRolePolicies operation: The role with name hunkim-kendra-sample-role cannot be found.\narn:aws:iam::294038372338:policy/hunkim-kendra-sample-policy\narn:aws:iam::294038372338:role/hunkim-kendra-sample-role\n"
    }
   ],
   "source": [
    "iam = boto3.client(\"iam\")\n",
    "\n",
    "role_name = \"hunkim-kendra-sample-role\"\n",
    "policy_name = \"hunkim-kendra-sample-policy\"\n",
    "\n",
    "# Delete if exist\n",
    "try:\n",
    "    response = iam.list_attached_role_policies(RoleName=role_name)\n",
    "    for policy in response[\"AttachedPolicies\"]:\n",
    "        iam.detach_role_policy(PolicyArn=policy[\"PolicyArn\"], RoleName=role_name)\n",
    "        iam.delete_policy(PolicyArn=policy[\"PolicyArn\"])\n",
    "    \n",
    "    iam.delete_role(RoleName=role_name)\n",
    "except Exception as e: \n",
    "    print (str(e))\n",
    "\n",
    "# Create a policy\n",
    "kendra_policy = {\n",
    "    \"Version\": \"2012-10-17\",\n",
    "    \"Statement\": [\n",
    "        {\n",
    "            \"Effect\": \"Allow\",\n",
    "            \"Action\": \"cloudwatch:PutMetricData\",\n",
    "            \"Resource\": \"*\",\n",
    "            \"Condition\": {\n",
    "                \"StringEquals\": {\n",
    "                    \"cloudwatch:namespace\": \"Kendra\"\n",
    "                }\n",
    "            }\n",
    "        },\n",
    "        {\n",
    "            \"Effect\": \"Allow\",\n",
    "            \"Action\": \"logs:DescribeLogGroups\",\n",
    "            \"Resource\": \"*\"\n",
    "        },\n",
    "        {\n",
    "            \"Effect\": \"Allow\",\n",
    "            \"Action\": \"logs:CreateLogGroup\",\n",
    "            \"Resource\": \"*\"\n",
    "        },\n",
    "        {\n",
    "            \"Effect\": \"Allow\",\n",
    "            \"Action\": \"s3:*\",\n",
    "            \"Resource\": \"*\"\n",
    "        },\n",
    "         {\n",
    "            \"Effect\": \"Allow\",\n",
    "            \"Action\": \"kendra:*\",\n",
    "            \"Resource\": \"*\"\n",
    "        },\n",
    "        {\n",
    "            \"Effect\": \"Allow\",\n",
    "            \"Action\": [\n",
    "                \"logs:DescribeLogStreams\",\n",
    "                \"logs:CreateLogStream\",\n",
    "                \"logs:PutLogEvents\"\n",
    "            ],\n",
    "            \"Resource\": \"*\"\n",
    "        }\n",
    "    ]\n",
    "}\n",
    "\n",
    "try:\n",
    "    response = iam.create_policy(\n",
    "        PolicyName=policy_name,\n",
    "        PolicyDocument=json.dumps(kendra_policy))\n",
    "\n",
    "    kendra_policy_arn = response[\"Policy\"][\"Arn\"]\n",
    "    print(kendra_policy_arn)\n",
    "except Exception as e:\n",
    "    print(\"Creating Policy\", str(e))\n",
    "\n",
    "assume_role_policy_document =  {\n",
    "    \"Version\": \"2012-10-17\",\n",
    "    \"Statement\": [\n",
    "        {\n",
    "          \"Effect\": \"Allow\",\n",
    "          \"Principal\": {\n",
    "            \"Service\": \"kendra.amazonaws.com\"\n",
    "          },\n",
    "          \"Action\": \"sts:AssumeRole\"\n",
    "        }\n",
    "    ]\n",
    "}\n",
    "\n",
    "\n",
    "create_role_response = iam.create_role(\n",
    "    RoleName = role_name,\n",
    "    AssumeRolePolicyDocument = json.dumps(assume_role_policy_document)\n",
    ")\n",
    "\n",
    "# Add Kendra policy\n",
    "iam.attach_role_policy(\n",
    "    PolicyArn=kendra_policy_arn,\n",
    "    RoleName=role_name\n",
    ")\n",
    "\n",
    "time.sleep(60) # wait for a minute to allow IAM role policy attachment to propagate\n",
    "\n",
    "role_arn = create_role_response[\"Role\"][\"Arn\"]\n",
    "print(role_arn)"
   ]
  },
  {
   "cell_type": "markdown",
   "metadata": {},
   "source": [
    "#### Create Kendra Index"
   ]
  },
  {
   "cell_type": "code",
   "execution_count": 8,
   "metadata": {},
   "outputs": [
    {
     "output_type": "stream",
     "name": "stdout",
     "text": "93dd4515-79e8-4634-93af-b64bd1ec36cd\n"
    }
   ],
   "source": [
    "kendra_response = kendra.create_index(\n",
    "    Name=index_name,\n",
    "    Edition='DEVELOPER_EDITION',\n",
    "    RoleArn=role_arn,\n",
    "    Description='Kendra Sample',\n",
    "    ClientToken='hunkim'\n",
    ")\n",
    "\n",
    "kendra_index_id = kendra_response['Id']\n",
    "print(kendra_index_id)"
   ]
  },
  {
   "cell_type": "markdown",
   "metadata": {},
   "source": [
    "#### Wait for Kendra Index to Have ACTIVE Status\n",
    "\n",
    "Before we can use the Dataset Group in any items below it must be active, execute the cell below and wait for it to show active."
   ]
  },
  {
   "cell_type": "code",
   "execution_count": 9,
   "metadata": {},
   "outputs": [
    {
     "output_type": "stream",
     "name": "stdout",
     "text": "KendraIndexStatus: CREATING\nKendraIndexStatus: CREATING\nKendraIndexStatus: CREATING\nKendraIndexStatus: CREATING\nKendraIndexStatus: CREATING\nKendraIndexStatus: CREATING\nKendraIndexStatus: CREATING\nKendraIndexStatus: CREATING\nKendraIndexStatus: CREATING\nKendraIndexStatus: CREATING\nKendraIndexStatus: CREATING\nKendraIndexStatus: CREATING\nKendraIndexStatus: ACTIVE\n"
    }
   ],
   "source": [
    "max_time = time.time() + 3*60*60 # 3 hours\n",
    "while time.time() < max_time:\n",
    "    describe_kendra_index_response = kendra.describe_index(\n",
    "        Id = kendra_index_id\n",
    "    )\n",
    "    status = describe_kendra_index_response[\"Status\"]\n",
    "    print(\"KendraIndexStatus: {}\".format(status))\n",
    "    \n",
    "    if status == \"ACTIVE\" or status == \"CREATE FAILED\":\n",
    "        break\n",
    "        \n",
    "    time.sleep(60)"
   ]
  },
  {
   "cell_type": "markdown",
   "metadata": {},
   "source": [
    "### Create data source\n",
    "Use simple S3 and reuse the role arn"
   ]
  },
  {
   "cell_type": "code",
   "execution_count": 10,
   "metadata": {},
   "outputs": [
    {
     "output_type": "stream",
     "name": "stdout",
     "text": "kendra_data_source_id: afeeda0b-70be-4b5c-b21e-ced264200800\nDataSourceStatus: ACTIVE\n"
    }
   ],
   "source": [
    "kendra_response = kendra.create_data_source(\n",
    "    Name='hunkim-kendra-s3-data-source',\n",
    "    IndexId=kendra_index_id,\n",
    "    Type='S3',\n",
    "    Configuration={\n",
    "        'S3Configuration': {\n",
    "            'BucketName': bucket_name\n",
    "        }\n",
    "    },\n",
    "    Description='Kendra S3 DataSource',\n",
    "    RoleArn=role_arn,\n",
    ")\n",
    "\n",
    "kendra_data_source_id = kendra_response['Id']\n",
    "print(\"kendra_data_source_id:\", kendra_data_source_id)\n",
    "\n",
    "max_time = time.time() + 3*60*60 # 3 hours\n",
    "while time.time() < max_time:\n",
    "    describe_data_source_response = kendra.describe_data_source(\n",
    "        Id = kendra_data_source_id,\n",
    "        IndexId = kendra_index_id\n",
    "    )\n",
    "    status = describe_kendra_index_response[\"Status\"]\n",
    "    print(\"DataSourceStatus: {}\".format(status))\n",
    "    \n",
    "    if status == \"ACTIVE\" or status == \"CREATE FAILED\":\n",
    "        break\n",
    "        \n",
    "    time.sleep(60)"
   ]
  },
  {
   "cell_type": "markdown",
   "metadata": {},
   "source": [
    "### Sync the data source"
   ]
  },
  {
   "cell_type": "code",
   "execution_count": 11,
   "metadata": {},
   "outputs": [
    {
     "output_type": "stream",
     "name": "stdout",
     "text": "kendra_data_sync_id: 2f97ff3c-5294-4e50-ade1-2940b418b655\n"
    }
   ],
   "source": [
    "kendra_response = kendra.start_data_source_sync_job(\n",
    "    Id = kendra_data_source_id,\n",
    "    IndexId=kendra_index_id,\n",
    ")\n",
    "\n",
    "kendra_data_sync_id = kendra_response['ExecutionId']\n",
    "print(\"kendra_data_sync_id:\", kendra_data_sync_id)"
   ]
  },
  {
   "cell_type": "code",
   "execution_count": 12,
   "metadata": {},
   "outputs": [
    {
     "output_type": "stream",
     "name": "stdout",
     "text": "DataSourceStatus: SYNCING\nDataSourceStatus: INCOMPLETE\nDataSourceStatus: INCOMPLETE\nDataSourceStatus: INCOMPLETE\nDataSourceStatus: INCOMPLETE\nDataSourceStatus: INCOMPLETE\nDataSourceStatus: INCOMPLETE\nDataSourceStatus: INCOMPLETE\n"
    },
    {
     "output_type": "error",
     "ename": "KeyboardInterrupt",
     "evalue": "",
     "traceback": [
      "\u001b[0;31m---------------------------------------------------------------------------\u001b[0m",
      "\u001b[0;31mKeyboardInterrupt\u001b[0m                         Traceback (most recent call last)",
      "\u001b[0;32m<ipython-input-12-ed58c7872cfe>\u001b[0m in \u001b[0;36m<module>\u001b[0;34m\u001b[0m\n\u001b[1;32m     18\u001b[0m         \u001b[0;32mbreak\u001b[0m\u001b[0;34m\u001b[0m\u001b[0;34m\u001b[0m\u001b[0m\n\u001b[1;32m     19\u001b[0m \u001b[0;34m\u001b[0m\u001b[0m\n\u001b[0;32m---> 20\u001b[0;31m     \u001b[0mtime\u001b[0m\u001b[0;34m.\u001b[0m\u001b[0msleep\u001b[0m\u001b[0;34m(\u001b[0m\u001b[0;36m60\u001b[0m\u001b[0;34m)\u001b[0m\u001b[0;34m\u001b[0m\u001b[0;34m\u001b[0m\u001b[0m\n\u001b[0m",
      "\u001b[0;31mKeyboardInterrupt\u001b[0m: "
     ]
    }
   ],
   "source": [
    "# FIXME: What is the best way to check the sync status?\n",
    "# We cannot search for a given sync execution id\n",
    "max_time = time.time() + 3*60*60 # 3 hours\n",
    "while time.time() < max_time:\n",
    "    describe_data_source_sync_response = kendra.list_data_source_sync_jobs(\n",
    "        Id = kendra_data_source_id,\n",
    "        IndexId = kendra_index_id\n",
    "    )\n",
    "\n",
    "    status = None\n",
    "    for history in describe_data_source_sync_response['History']:\n",
    "        if history['ExecutionId'] == kendra_data_sync_id:\n",
    "            status = history[\"Status\"]\n",
    "            print(\"DataSourceStatus: {}\".format(status))\n",
    "            break\n",
    "    \n",
    "    # FIXME: INCOMPLETE?\n",
    "    if status != \"SYNCING\":\n",
    "        break\n",
    "\n",
    "    time.sleep(60)"
   ]
  },
  {
   "cell_type": "markdown",
   "metadata": {},
   "source": [
    "### Sample Query\n",
    "Fire query"
   ]
  },
  {
   "cell_type": "code",
   "execution_count": 13,
   "metadata": {
    "tags": [
     "outputPrepend"
    ]
   },
   "outputs": [
    {
     "output_type": "stream",
     "name": "stdout",
     "text": "{\n  \"FacetResults\": [],\n  \"QueryId\": \"b8a3b37b-630d-4a64-9656-e275a41e40e4\",\n  \"ResponseMetadata\": {\n    \"HTTPHeaders\": {\n      \"content-length\": \"2776\",\n      \"content-type\": \"application/x-amz-json-1.1\",\n      \"date\": \"Sun, 31 May 2020 13:44:37 GMT\",\n      \"x-amzn-requestid\": \"8d8d28bc-98cc-4ef5-9120-fd1dba4389a3\"\n    },\n    \"HTTPStatusCode\": 200,\n    \"RequestId\": \"8d8d28bc-98cc-4ef5-9120-fd1dba4389a3\",\n    \"RetryAttempts\": 0\n  },\n  \"ResultItems\": [\n    {\n      \"AdditionalAttributes\": [\n        {\n          \"Key\": \"AnswerText\",\n          \"Value\": {\n            \"TextWithHighlightsValue\": {\n              \"Highlights\": [\n                {\n                  \"BeginOffset\": 5,\n                  \"EndOffset\": 9,\n                  \"TopAnswer\": false\n                }\n              ],\n              \"Text\": \"From Sung Kim\\n\\n\\n\\t\\t\\t\\n\\n\\t\\t\\t\\n\\n\\n\\n\\n  Academic Service \\n\\n\\n\\n\\n  2016 \\n\\n\\n\\t \\nThe 38th International Conference on Software Engineering (ICSE 2016)\\n\\n\\t Program Board\\n\\n\\n\\n\\n\\n  2015 \\n\\n\\n\\n\\t \\n12th Working Conference on Mining Software Repositories (MSR 2015)\\n\\u00a0\\n\\t Program Committee\\n\\n\\n\\n\\n\\n\\t \\nEuropean Software Engineering Conference and the ACM SIGSOFT Symposium on the Foundations of Software Engineering (ESEC/FSE 2015)\\n\\u00a0\\n\\t Program Committee\\n\\n\\n\\n\\n\\n\\t \\nThe 37th International Conference on Software Engineering (ICSE 2015 Demo)\\n\\n\\t Demo Track Program Co-chair\\n\\n\\n\\n\\n\\n  2014 \\n\\n\\n\\n\\n\\t \\nThe 22nd ACM SIGSOFT International Symposium on the Foundation of Software Engineering (FSE 2014) in Hong Kong\\n\\n\\t Publicity Co-chair\\n\\n\\n\\n\\n\\n\\t \\nThe 36th International Conference on Software Engineering (ICSE 2014 Demo) in\"\n            }\n          },\n          \"ValueType\": \"TEXT_WITH_HIGHLIGHTS_VALUE\"\n        }\n      ],\n      \"DocumentAttributes\": [],\n      \"DocumentExcerpt\": {\n        \"Highlights\": [\n          {\n            \"BeginOffset\": 0,\n            \"EndOffset\": 300,\n            \"TopAnswer\": false\n          }\n        ],\n        \"Text\": \"From Sung Kim\\n\\n\\n\\t\\t\\t\\n\\n\\t\\t\\t\\n\\n\\n\\n\\n  Academic Service \\n\\n\\n\\n\\n  2016 \\n\\n\\n\\t \\nThe 38th International Conference on Software Engineering (ICSE 2016)\\n\\n\\t Program Board\\n\\n\\n\\n\\n\\n  2015 \\n\\n\\n\\n\\t \\n12th Working Conference on Mining Software Repositories (MSR 2015)\\n\\u00a0\\n\\t Program Committee\\n\\n\\n\\n\\n\\n\\t \\nEuropean Software Engineering C\"\n      },\n      \"DocumentId\": \"s3://hunkim-kendra-sample/www.cse.ust.hk/~hunkim/Service.html\",\n      \"DocumentTitle\": {\n        \"Text\": \"Service\"\n      },\n      \"DocumentURI\": \"https://s3.us-west-2.amazonaws.com/hunkim-kendra-sample/www.cse.ust.hk/~hunkim/Service.html\",\n      \"Id\": \"b8a3b37b-630d-4a64-9656-e275a41e40e4-58bc8c79-d81d-4356-9a8b-4286424ea96f\",\n      \"Type\": \"ANSWER\"\n    },\n    {\n      \"AdditionalAttributes\": [],\n      \"DocumentAttributes\": [\n        {\n          \"Key\": \"_source_uri\",\n          \"Value\": {\n            \"StringValue\": \"https://s3.us-west-2.amazonaws.com/hunkim-kendra-sample/www.cse.ust.hk/~hunkim/Service.html\"\n          }\n        }\n      ],\n      \"DocumentExcerpt\": {\n        \"Highlights\": [\n          {\n            \"BeginOffset\": 8,\n            \"EndOffset\": 12,\n            \"TopAnswer\": false\n          }\n        ],\n        \"Text\": \"...From Sung Kim\\n\\n\\n\\t\\t\\t\\n\\n\\t\\t\\t\\n\\n\\n\\n\\n  Academic Service \\n\\n\\n\\n\\n  2016 \\n\\n\\n\\t \\nThe 38th International Conference on Software Engineering (ICSE 2016)\\n\\n\\t Program Board...\"\n      },\n      \"DocumentId\": \"s3://hunkim-kendra-sample/www.cse.ust.hk/~hunkim/Service.html\",\n      \"DocumentTitle\": {\n        \"Highlights\": [],\n        \"Text\": \"Service\"\n      },\n      \"DocumentURI\": \"https://s3.us-west-2.amazonaws.com/hunkim-kendra-sample/www.cse.ust.hk/~hunkim/Service.html\",\n      \"Id\": \"b8a3b37b-630d-4a64-9656-e275a41e40e4-3c95b65c-022a-4b02-a9c1-772a5c855f32\",\n      \"Type\": \"DOCUMENT\"\n    }\n  ],\n  \"TotalNumberOfResults\": 2\n}\n"
    }
   ],
   "source": [
    "kendra_response = kendra.query(\n",
    "    IndexId = kendra_index_id,\n",
    "    QueryText = 'Who is Sung?'\n",
    ")\n",
    "\n",
    "print(json.dumps(kendra_response, indent=2, sort_keys=True))"
   ]
  },
  {
   "cell_type": "markdown",
   "metadata": {},
   "source": [
    "## Delete the index and Wait\n",
    "Makr sure you have deleted it to save unnecessary cost"
   ]
  },
  {
   "cell_type": "code",
   "execution_count": 13,
   "metadata": {},
   "outputs": [
    {
     "output_type": "stream",
     "name": "stdout",
     "text": "Input DELETE if you want to delete: \n"
    },
    {
     "output_type": "error",
     "ename": "RuntimeError",
     "evalue": "No active exception to reraise",
     "traceback": [
      "\u001b[0;31m---------------------------------------------------------------------------\u001b[0m",
      "\u001b[0;31mRuntimeError\u001b[0m                              Traceback (most recent call last)",
      "\u001b[0;32m<ipython-input-13-f05e77a2a9de>\u001b[0m in \u001b[0;36m<module>\u001b[0;34m\u001b[0m\n\u001b[1;32m      1\u001b[0m \u001b[0mprint\u001b[0m\u001b[0;34m(\u001b[0m\u001b[0;34m\"Input DELETE if you want to delete: \"\u001b[0m\u001b[0;34m)\u001b[0m\u001b[0;34m\u001b[0m\u001b[0;34m\u001b[0m\u001b[0m\n\u001b[1;32m      2\u001b[0m \u001b[0;32mif\u001b[0m \u001b[0minput\u001b[0m\u001b[0;34m(\u001b[0m\u001b[0;34m)\u001b[0m \u001b[0;34m!=\u001b[0m \u001b[0;34m\"DELETE\"\u001b[0m\u001b[0;34m:\u001b[0m\u001b[0;34m\u001b[0m\u001b[0;34m\u001b[0m\u001b[0m\n\u001b[0;32m----> 3\u001b[0;31m     \u001b[0;32mraise\u001b[0m\u001b[0;34m\u001b[0m\u001b[0;34m\u001b[0m\u001b[0m\n\u001b[0m\u001b[1;32m      4\u001b[0m \u001b[0;34m\u001b[0m\u001b[0m\n\u001b[1;32m      5\u001b[0m \u001b[0;34m\u001b[0m\u001b[0m\n",
      "\u001b[0;31mRuntimeError\u001b[0m: No active exception to reraise"
     ]
    }
   ],
   "source": [
    "print(\"Input DELETE if you want to delete: \")\n",
    "if input() != \"DELETE\":\n",
    "    raise \n",
    "\n",
    "\n",
    "# This will delete index and data sources\n",
    "kendra_response = kendra.delete_index(\n",
    "    Id=kendra_index_id\n",
    ")\n",
    "\n",
    "max_time = time.time() + 3*60*60 # 3 hours\n",
    "try:\n",
    "    while time.time() < max_time:\n",
    "        describe_kendra_index_response = kendra.describe_index(\n",
    "            Id = kendra_index_id\n",
    "        )\n",
    "        status = describe_kendra_index_response[\"Status\"]\n",
    "        print(\"KendraIndexStatus: {}\".format(status))\n",
    "            \n",
    "        time.sleep(60)\n",
    "except Exception as e: \n",
    "    # Should be ResourceNotFoundException\n",
    "    print (str(e))\n",
    "    print(\"Deleted\")\n"
   ]
  },
  {
   "cell_type": "markdown",
   "metadata": {},
   "source": [
    "#### Delete S3 and IAM\n",
    "\n",
    "Clean up others"
   ]
  },
  {
   "cell_type": "code",
   "execution_count": 14,
   "metadata": {},
   "outputs": [
    {
     "output_type": "stream",
     "name": "stdout",
     "text": "Deleting s3.ObjectSummary(bucket_name='hunkim-kendra-sample', key='www.cse.ust.hk/robots.txt.tmp')\nDeleting s3.ObjectSummary(bucket_name='hunkim-kendra-sample', key='www.cse.ust.hk/~hunkim/Bio.html')\nDeleting s3.ObjectSummary(bucket_name='hunkim-kendra-sample', key='www.cse.ust.hk/~hunkim/Bio.html.orig')\nDeleting s3.ObjectSummary(bucket_name='hunkim-kendra-sample', key='www.cse.ust.hk/~hunkim/Contact.html')\nDeleting s3.ObjectSummary(bucket_name='hunkim-kendra-sample', key='www.cse.ust.hk/~hunkim/Contact.html.orig')\nDeleting s3.ObjectSummary(bucket_name='hunkim-kendra-sample', key='www.cse.ust.hk/~hunkim/Publications.html')\nDeleting s3.ObjectSummary(bucket_name='hunkim-kendra-sample', key='www.cse.ust.hk/~hunkim/Publications.html.orig')\nDeleting s3.ObjectSummary(bucket_name='hunkim-kendra-sample', key='www.cse.ust.hk/~hunkim/Research.html')\nDeleting s3.ObjectSummary(bucket_name='hunkim-kendra-sample', key='www.cse.ust.hk/~hunkim/Research.html.orig')\nDeleting s3.ObjectSummary(bucket_name='hunkim-kendra-sample', key='www.cse.ust.hk/~hunkim/Service.html')\nDeleting s3.ObjectSummary(bucket_name='hunkim-kendra-sample', key='www.cse.ust.hk/~hunkim/Service.html.orig')\nDeleting s3.ObjectSummary(bucket_name='hunkim-kendra-sample', key='www.cse.ust.hk/~hunkim/Software.html')\nDeleting s3.ObjectSummary(bucket_name='hunkim-kendra-sample', key='www.cse.ust.hk/~hunkim/Software.html.orig')\nDeleting s3.ObjectSummary(bucket_name='hunkim-kendra-sample', key='www.cse.ust.hk/~hunkim/Students.html')\nDeleting s3.ObjectSummary(bucket_name='hunkim-kendra-sample', key='www.cse.ust.hk/~hunkim/Students.html.orig')\nDeleting s3.ObjectSummary(bucket_name='hunkim-kendra-sample', key='www.cse.ust.hk/~hunkim/Teaching.html')\nDeleting s3.ObjectSummary(bucket_name='hunkim-kendra-sample', key='www.cse.ust.hk/~hunkim/Teaching.html.orig')\nDeleting s3.ObjectSummary(bucket_name='hunkim-kendra-sample', key='www.cse.ust.hk/~hunkim/course_evaluation/COMP-3111-L1-2013Spring.pdf')\nDeleting s3.ObjectSummary(bucket_name='hunkim-kendra-sample', key='www.cse.ust.hk/~hunkim/course_evaluation/COMP-3111-L1-2014Spring.pdf')\nDeleting s3.ObjectSummary(bucket_name='hunkim-kendra-sample', key='www.cse.ust.hk/~hunkim/course_evaluation/COMP-3111-L2-2013Spring.pdf')\nDeleting s3.ObjectSummary(bucket_name='hunkim-kendra-sample', key='www.cse.ust.hk/~hunkim/course_evaluation/COMP-3111-L2-2014Spring.pdf')\nDeleting s3.ObjectSummary(bucket_name='hunkim-kendra-sample', key='www.cse.ust.hk/~hunkim/course_evaluation/COMP-3111H-2013Spring.pdf')\nDeleting s3.ObjectSummary(bucket_name='hunkim-kendra-sample', key='www.cse.ust.hk/~hunkim/course_evaluation/COMP-3111H-2014Spring.pdf')\nDeleting s3.ObjectSummary(bucket_name='hunkim-kendra-sample', key='www.cse.ust.hk/~hunkim/images/1/10/Exoa_aaai2010.pdf')\nDeleting s3.ObjectSummary(bucket_name='hunkim-kendra-sample', key='www.cse.ust.hk/~hunkim/images/1/16/Papers_kim_2007_icse.pdf')\nDeleting s3.ObjectSummary(bucket_name='hunkim-kendra-sample', key='www.cse.ust.hk/~hunkim/images/1/1c/Dsn_icsm2011.pdf')\nDeleting s3.ObjectSummary(bucket_name='hunkim-kendra-sample', key='www.cse.ust.hk/~hunkim/images/3/37/Papers_kim_2007_bugcache.pdf')\nDeleting s3.ObjectSummary(bucket_name='hunkim-kendra-sample', key='www.cse.ust.hk/~hunkim/images/3/3c/Codesearch_icde2011.pdf')\nDeleting s3.ObjectSummary(bucket_name='hunkim-kendra-sample', key='www.cse.ust.hk/~hunkim/images/3/3d/Cer_comp1022p_fall2011.pdf')\nDeleting s3.ObjectSummary(bucket_name='hunkim-kendra-sample', key='www.cse.ust.hk/~hunkim/images/4/44/Papers_kim2009fse.pdf')\nDeleting s3.ObjectSummary(bucket_name='hunkim-kendra-sample', key='www.cse.ust.hk/~hunkim/images/4/45/Crash_graphs_dsn2011.pdf')\nDeleting s3.ObjectSummary(bucket_name='hunkim-kendra-sample', key='www.cse.ust.hk/~hunkim/images/5/51/Cer_comp104_fall2010.pdf')\nDeleting s3.ObjectSummary(bucket_name='hunkim-kendra-sample', key='www.cse.ust.hk/~hunkim/images/5/56/Mecc_icse2011.pdf')\nDeleting s3.ObjectSummary(bucket_name='hunkim-kendra-sample', key='www.cse.ust.hk/~hunkim/images/5/59/Papers_kim2006ase.pdf')\nDeleting s3.ObjectSummary(bucket_name='hunkim-kendra-sample', key='www.cse.ust.hk/~hunkim/images/6/65/Papers_jeong2009fse.pdf')\nDeleting s3.ObjectSummary(bucket_name='hunkim-kendra-sample', key='www.cse.ust.hk/~hunkim/images/7/7b/Papers_shiv2009ase.pdf')\nDeleting s3.ObjectSummary(bucket_name='hunkim-kendra-sample', key='www.cse.ust.hk/~hunkim/images/7/7c/Cer_comp211_fall2009.pdf')\nDeleting s3.ObjectSummary(bucket_name='hunkim-kendra-sample', key='www.cse.ust.hk/~hunkim/images/9/92/Automatic-patching-sosp2009.pdf')\nDeleting s3.ObjectSummary(bucket_name='hunkim-kendra-sample', key='www.cse.ust.hk/~hunkim/images/9/99/Ocat_issta2010.pdf')\nDeleting s3.ObjectSummary(bucket_name='hunkim-kendra-sample', key='www.cse.ust.hk/~hunkim/images/9/99/Papers_jaygarl2009.pdf')\nDeleting s3.ObjectSummary(bucket_name='hunkim-kendra-sample', key='www.cse.ust.hk/~hunkim/images/a/a3/Papers_kim_2008_ecoop.pdf')\nDeleting s3.ObjectSummary(bucket_name='hunkim-kendra-sample', key='www.cse.ust.hk/~hunkim/images/b/b2/Cer_comp610I_fall2009.pdf')\nDeleting s3.ObjectSummary(bucket_name='hunkim-kendra-sample', key='www.cse.ust.hk/~hunkim/images/b/b2/Papers_Bettenburg2008icsm.pdf')\nDeleting s3.ObjectSummary(bucket_name='hunkim-kendra-sample', key='www.cse.ust.hk/~hunkim/images/b/b6/Relink_fse2011.pdf')\nDeleting s3.ObjectSummary(bucket_name='hunkim-kendra-sample', key='www.cse.ust.hk/~hunkim/images/b/ba/Refactoring_icse2011.pdf')\nDeleting s3.ObjectSummary(bucket_name='hunkim-kendra-sample', key='www.cse.ust.hk/~hunkim/images/b/be/Papers_kim2009ase.pdf')\nDeleting s3.ObjectSummary(bucket_name='hunkim-kendra-sample', key='www.cse.ust.hk/~hunkim/images/c/c1/Cotriage_aaai2011.pdf')\nDeleting s3.ObjectSummary(bucket_name='hunkim-kendra-sample', key='www.cse.ust.hk/~hunkim/images/c/c2/Mim_fse2011.pdf')\nDeleting s3.ObjectSummary(bucket_name='hunkim-kendra-sample', key='www.cse.ust.hk/~hunkim/images/c/c6/Papers_kim_2007_msr.pdf')\nDeleting s3.ObjectSummary(bucket_name='hunkim-kendra-sample', key='www.cse.ust.hk/~hunkim/images/c/c9/Papers_kim2006fse.pdf')\nDeleting s3.ObjectSummary(bucket_name='hunkim-kendra-sample', key='www.cse.ust.hk/~hunkim/images/c/cb/Nr_icse2011.pdf')\nDeleting s3.ObjectSummary(bucket_name='hunkim-kendra-sample', key='www.cse.ust.hk/~hunkim/images/d/d3/Papers_kim2009icpc.pdf')\nDeleting s3.ObjectSummary(bucket_name='hunkim-kendra-sample', key='www.cse.ust.hk/~hunkim/images/e/e6/Papers_kim2006icsm.pdf')\nDeleting s3.ObjectSummary(bucket_name='hunkim-kendra-sample', key='www.cse.ust.hk/~hunkim/images/e/e8/Papers_kim_2007_fse.pdf')\nDeleting s3.ObjectSummary(bucket_name='hunkim-kendra-sample', key='www.cse.ust.hk/~hunkim/images/e/eb/Papers_Bettenburg2008msr.pdf')\nDeleting s3.ObjectSummary(bucket_name='hunkim-kendra-sample', key='www.cse.ust.hk/~hunkim/images/e/ed/Quality_software2010.pdf')\nDeleting s3.ObjectSummary(bucket_name='hunkim-kendra-sample', key='www.cse.ust.hk/~hunkim/images/e/ef/Cc_fse2010.pdf')\nDeleting s3.ObjectSummary(bucket_name='hunkim-kendra-sample', key='www.cse.ust.hk/~hunkim/images/f/f0/Papers_pan2006scam.pdf')\nDeleting s3.ObjectSummary(bucket_name='hunkim-kendra-sample', key='www.cse.ust.hk/~hunkim/images/f/f5/Bevan2005fse.pdf')\nDeleting s3.ObjectSummary(bucket_name='hunkim-kendra-sample', key='www.cse.ust.hk/~hunkim/images/f/f5/Papers_pan2008esme.pdf')\nDeleting s3.ObjectSummary(bucket_name='hunkim-kendra-sample', key='www.cse.ust.hk/~hunkim/images/f/f7/Kim2006msr1.pdf')\nDeleting s3.ObjectSummary(bucket_name='hunkim-kendra-sample', key='www.cse.ust.hk/~hunkim/images/f/f8/Cer_comp211_spring2011.pdf')\nDeleting s3.ObjectSummary(bucket_name='hunkim-kendra-sample', key='www.cse.ust.hk/~hunkim/index.html')\nDeleting s3.ObjectSummary(bucket_name='hunkim-kendra-sample', key='www.cse.ust.hk/~hunkim/index.html.orig')\nDeleting s3.ObjectSummary(bucket_name='hunkim-kendra-sample', key='www.cse.ust.hk/~hunkim/papers/chen-ase2012.pdf')\nDeleting s3.ObjectSummary(bucket_name='hunkim-kendra-sample', key='www.cse.ust.hk/~hunkim/papers/chen-crowd-debugging-fse2015.pdf')\nDeleting s3.ObjectSummary(bucket_name='hunkim-kendra-sample', key='www.cse.ust.hk/~hunkim/papers/chen-tse2015.pdf')\nDeleting s3.ObjectSummary(bucket_name='hunkim-kendra-sample', key='www.cse.ust.hk/~hunkim/papers/cheung-emse2016.pdf')\nDeleting s3.ObjectSummary(bucket_name='hunkim-kendra-sample', key='www.cse.ust.hk/~hunkim/papers/data_race_evolution_msr2012.pdf')\nDeleting s3.ObjectSummary(bucket_name='hunkim-kendra-sample', key='www.cse.ust.hk/~hunkim/papers/gu-ase2015.pdf')\nDeleting s3.ObjectSummary(bucket_name='hunkim-kendra-sample', key='www.cse.ust.hk/~hunkim/papers/gu-fse2016.pdf')\nDeleting s3.ObjectSummary(bucket_name='hunkim-kendra-sample', key='www.cse.ust.hk/~hunkim/papers/gu-ijcai2017.pdf')\nDeleting s3.ObjectSummary(bucket_name='hunkim-kendra-sample', key='www.cse.ust.hk/~hunkim/papers/jiang-ase2013.pdf')\nDeleting s3.ObjectSummary(bucket_name='hunkim-kendra-sample', key='www.cse.ust.hk/~hunkim/papers/kim-REMI(industry)-fse2015.pdf')\nDeleting s3.ObjectSummary(bucket_name='hunkim-kendra-sample', key='www.cse.ust.hk/~hunkim/papers/kim-icse2013.pdf')\nDeleting s3.ObjectSummary(bucket_name='hunkim-kendra-sample', key='www.cse.ust.hk/~hunkim/papers/kim-tois2013.pdf')\nDeleting s3.ObjectSummary(bucket_name='hunkim-kendra-sample', key='www.cse.ust.hk/~hunkim/papers/kim-tse-2008.pdf')\nDeleting s3.ObjectSummary(bucket_name='hunkim-kendra-sample', key='www.cse.ust.hk/~hunkim/papers/kim-tse2013.pdf')\nDeleting s3.ObjectSummary(bucket_name='hunkim-kendra-sample', key='www.cse.ust.hk/~hunkim/papers/lee-jcse2015.pdf')\nDeleting s3.ObjectSummary(bucket_name='hunkim-kendra-sample', key='www.cse.ust.hk/~hunkim/papers/lee-tse2015.pdf')\nDeleting s3.ObjectSummary(bucket_name='hunkim-kendra-sample', key='www.cse.ust.hk/~hunkim/papers/lee-tse2016.pdf')\nDeleting s3.ObjectSummary(bucket_name='hunkim-kendra-sample', key='www.cse.ust.hk/~hunkim/papers/nam-HDP-fse2015.pdf')\nDeleting s3.ObjectSummary(bucket_name='hunkim-kendra-sample', key='www.cse.ust.hk/~hunkim/papers/nam-ase2015.pdf')\nDeleting s3.ObjectSummary(bucket_name='hunkim-kendra-sample', key='www.cse.ust.hk/~hunkim/papers/nam-icse2013.pdf')\nDeleting s3.ObjectSummary(bucket_name='hunkim-kendra-sample', key='www.cse.ust.hk/~hunkim/papers/seo-ase2012.pdf')\nDeleting s3.ObjectSummary(bucket_name='hunkim-kendra-sample', key='www.cse.ust.hk/~hunkim/papers/seo-fse2014.pdf')\nDeleting s3.ObjectSummary(bucket_name='hunkim-kendra-sample', key='www.cse.ust.hk/~hunkim/papers/shiv-tse2013.pdf')\nDeleting s3.ObjectSummary(bucket_name='hunkim-kendra-sample', key='www.cse.ust.hk/~hunkim/papers/tao-fse2012.pdf')\nDeleting s3.ObjectSummary(bucket_name='hunkim-kendra-sample', key='www.cse.ust.hk/~hunkim/papers/tao-fse2014.pdf')\nDeleting s3.ObjectSummary(bucket_name='hunkim-kendra-sample', key='www.cse.ust.hk/~hunkim/papers/tao-icsme2014.pdf')\nDeleting s3.ObjectSummary(bucket_name='hunkim-kendra-sample', key='www.cse.ust.hk/~hunkim/papers/tao-msr2015.pdf')\nDeleting s3.ObjectSummary(bucket_name='hunkim-kendra-sample', key='www.cse.ust.hk/~hunkim/papers/top_crash_tse2011.pdf')\nDeleting s3.ObjectSummary(bucket_name='hunkim-kendra-sample', key='www.cse.ust.hk/~hunkim/papers/wurx_issta2014.pdf')\n"
    },
    {
     "output_type": "execute_result",
     "data": {
      "text/plain": "{'ResponseMetadata': {'RequestId': 'DB7D93BEADADCEA5',\n  'HostId': '/ZA4bT1+EAQ7HyQlrxaE9ZxkMIxmqtvcE9atOkWCnNDbNaV/w02V6lJWTMMhc24mWINVG9zaVQg=',\n  'HTTPStatusCode': 204,\n  'HTTPHeaders': {'x-amz-id-2': '/ZA4bT1+EAQ7HyQlrxaE9ZxkMIxmqtvcE9atOkWCnNDbNaV/w02V6lJWTMMhc24mWINVG9zaVQg=',\n   'x-amz-request-id': 'DB7D93BEADADCEA5',\n   'date': 'Sun, 31 May 2020 13:18:59 GMT',\n   'server': 'AmazonS3'},\n  'RetryAttempts': 0}}"
     },
     "metadata": {},
     "execution_count": 14
    }
   ],
   "source": [
    "print(\"Input DELETE if you want to delete: \")\n",
    "if input() != \"DELETE\":\n",
    "    raise \n",
    "\n",
    "# Delete Policy and IAM \n",
    "try:\n",
    "    response = iam.list_attached_role_policies(RoleName=role_name)\n",
    "    for policy in response[\"AttachedPolicies\"]:\n",
    "        iam.detach_role_policy(PolicyArn=policy[\"PolicyArn\"], RoleName=role_name)\n",
    "        iam.delete_policy(PolicyArn=policy[\"PolicyArn\"])\n",
    "    \n",
    "    iam.delete_role(RoleName=role_name)\n",
    "except Exception as e: \n",
    "    print (str(e))\n",
    "\n",
    "# Delete S3\n",
    "s3_client = boto3.Session().resource('s3')\n",
    "s3_bucket = s3_client.Bucket(bucket_name)\n",
    "for key in s3_bucket.objects.all():\n",
    "    print(\"Deleting \" + str(key))\n",
    "    key.delete()\n",
    "s3_bucket.delete()"
   ]
  },
  {
   "cell_type": "code",
   "execution_count": null,
   "metadata": {},
   "outputs": [],
   "source": []
  }
 ],
 "metadata": {
  "kernelspec": {
   "display_name": "Python 3.7.3 64-bit ('.venv': venv)",
   "language": "python",
   "name": "python37364bitvenvvenv5b698d42f2f647268bb0ca8aa248a150"
  },
  "language_info": {
   "codemirror_mode": {
    "name": "ipython",
    "version": 3
   },
   "file_extension": ".py",
   "mimetype": "text/x-python",
   "name": "python",
   "nbconvert_exporter": "python",
   "pygments_lexer": "ipython3",
   "version": "3.7.3-final"
  }
 },
 "nbformat": 4,
 "nbformat_minor": 4
}